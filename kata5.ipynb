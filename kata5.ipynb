{
 "cells": [
  {
   "cell_type": "markdown",
   "metadata": {},
   "source": [
    "## Modulo 5 - Kata 5"
   ]
  },
  {
   "cell_type": "markdown",
   "metadata": {},
   "source": [
    "## Ejercicio 1"
   ]
  },
  {
   "cell_type": "code",
   "execution_count": 5,
   "metadata": {},
   "outputs": [
    {
     "name": "stdout",
     "output_type": "stream",
     "text": [
      "628949330\n",
      "390577534\n"
     ]
    }
   ],
   "source": [
    "from math import ceil, floor\n",
    "\n",
    "planeta1 = 149597870\n",
    "planeta2 = 778547200\n",
    "\n",
    "distancia_km = abs((planeta1 - planeta2))\n",
    "distancia_millas = abs((planeta1 - planeta2)*0.621)\n",
    "print(distancia_km)\n",
    "print(ceil(distancia_millas))"
   ]
  },
  {
   "cell_type": "markdown",
   "metadata": {},
   "source": [
    "## Ejercicio 2"
   ]
  },
  {
   "cell_type": "code",
   "execution_count": 6,
   "metadata": {},
   "outputs": [
    {
     "name": "stdout",
     "output_type": "stream",
     "text": [
      "La distancia en km de los dos planetas es de: 170000000\n",
      "La distancia en km de los dos planetas es de: 105570000.0\n"
     ]
    }
   ],
   "source": [
    "d_planeta1 = int(input(\"Proporciona la distancia del planeta 1 al sol: \"))\n",
    "d_planeta2 = int(input(\"Proporciona la distancia del planeta 2 al sol: \"))\n",
    "distancia_en_km = abs(d_planeta1 - d_planeta2)\n",
    "distancia_en_mi = distancia_en_km*0.621\n",
    "print(f\"La distancia en km de los dos planetas es de: {distancia_en_km}\")\n",
    "print(f\"La distancia en km de los dos planetas es de: {distancia_en_mi}\")"
   ]
  }
 ],
 "metadata": {
  "interpreter": {
   "hash": "50c2a5a1a885c24c6de32af214cf0b81f5185693406bb64d658a21602c831da5"
  },
  "kernelspec": {
   "display_name": "Python 3.10.2 64-bit",
   "language": "python",
   "name": "python3"
  },
  "language_info": {
   "codemirror_mode": {
    "name": "ipython",
    "version": 3
   },
   "file_extension": ".py",
   "mimetype": "text/x-python",
   "name": "python",
   "nbconvert_exporter": "python",
   "pygments_lexer": "ipython3",
   "version": "3.10.2"
  },
  "orig_nbformat": 4
 },
 "nbformat": 4,
 "nbformat_minor": 2
}
