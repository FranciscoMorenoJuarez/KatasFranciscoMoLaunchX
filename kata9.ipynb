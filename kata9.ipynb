{
 "cells": [
  {
   "cell_type": "code",
   "execution_count": 26,
   "metadata": {},
   "outputs": [],
   "source": [
    "def combustible(fuel1, fuel2, fuel3):\n",
    "    promedio = (fuel1 + fuel2 + fuel3)/3\n",
    "    return  f\"El promedio de los tres combustibles es: {promedio}\"\n"
   ]
  },
  {
   "cell_type": "markdown",
   "metadata": {},
   "source": [
    "## Ejercicio 1"
   ]
  },
  {
   "cell_type": "code",
   "execution_count": 27,
   "metadata": {},
   "outputs": [
    {
     "name": "stdout",
     "output_type": "stream",
     "text": [
      "El promedio de los tres combustibles es: 0.0\n"
     ]
    }
   ],
   "source": [
    "print(combustible(0,0,0))"
   ]
  },
  {
   "cell_type": "code",
   "execution_count": 28,
   "metadata": {},
   "outputs": [],
   "source": [
    "def promedio(combustibles):\n",
    "    total = sum(combustibles)\n",
    "    num_combustibles = len(combustibles)\n",
    "    return total/num_combustibles"
   ]
  },
  {
   "cell_type": "code",
   "execution_count": 24,
   "metadata": {},
   "outputs": [],
   "source": [
    "def combustible(fuel1, fuel2, fuel3):\n",
    "    prom = promedio[(fuel1, fuel2, fuel3)]\n",
    "    return  f\"El promedio de los tres combustibles es: {prom}\""
   ]
  },
  {
   "cell_type": "code",
   "execution_count": 30,
   "metadata": {},
   "outputs": [
    {
     "name": "stdout",
     "output_type": "stream",
     "text": [
      "El promedio de los tres combustibles es: 20.0\n"
     ]
    }
   ],
   "source": [
    "print(combustible(20,20,20))"
   ]
  },
  {
   "cell_type": "markdown",
   "metadata": {},
   "source": [
    "## Ejercicio 2\n"
   ]
  },
  {
   "cell_type": "code",
   "execution_count": 36,
   "metadata": {},
   "outputs": [],
   "source": [
    "def mision_info(hora_pre_lanz, hora_vuelo, destino, tanque_iz, tanque_der):\n",
    "    return f\"\"\"destino: {destino}\n",
    "            Reserva: {tanque_iz + tanque_der}\n",
    "            Tiempo: {hora_pre_lanz + hora_vuelo}\"\"\"\n",
    "\n"
   ]
  },
  {
   "cell_type": "code",
   "execution_count": 37,
   "metadata": {},
   "outputs": [],
   "source": [
    "def mision_info(destino, *tiempo, **gasolina):\n",
    "    return f\"\"\"destino: {destino}\n",
    "            Reserva: {sum(tiempo)}\n",
    "            Tiempo: {sum(gasolina.values())}\"\"\"\n"
   ]
  },
  {
   "cell_type": "code",
   "execution_count": 46,
   "metadata": {},
   "outputs": [],
   "source": [
    "def mision_info(destino, *tiempo, **gasolina):\n",
    "    reporte = f\"\"\"destino: {destino}\n",
    "    Reserva: {sum(tiempo)}\n",
    "    Tiempo: {sum(gasolina.values())}\"\"\"\n",
    "\n",
    "    for tanque, litros in gasolina.items():\n",
    "        reporte += f\" Al{tanque} le quedan {litros} restantes\"\n",
    "    return reporte\n",
    "\n"
   ]
  },
  {
   "cell_type": "code",
   "execution_count": 47,
   "metadata": {},
   "outputs": [
    {
     "name": "stdout",
     "output_type": "stream",
     "text": [
      "destino: Moon\n",
      "    Reserva: 74\n",
      "    Tiempo: 500000 Al izquierdo le quedan 300000 restantes Al derecho le quedan 200000 restantes\n"
     ]
    }
   ],
   "source": [
    "print(mision_info(\"Moon\", 8, 11, 55, izquierdo=300000, derecho=200000))"
   ]
  }
 ],
 "metadata": {
  "interpreter": {
   "hash": "50c2a5a1a885c24c6de32af214cf0b81f5185693406bb64d658a21602c831da5"
  },
  "kernelspec": {
   "display_name": "Python 3.10.2 64-bit",
   "language": "python",
   "name": "python3"
  },
  "language_info": {
   "codemirror_mode": {
    "name": "ipython",
    "version": 3
   },
   "file_extension": ".py",
   "mimetype": "text/x-python",
   "name": "python",
   "nbconvert_exporter": "python",
   "pygments_lexer": "ipython3",
   "version": "3.10.2"
  },
  "orig_nbformat": 4
 },
 "nbformat": 4,
 "nbformat_minor": 2
}
